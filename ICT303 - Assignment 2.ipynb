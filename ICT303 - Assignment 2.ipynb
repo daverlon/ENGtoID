{
 "cells": [
  {
   "cell_type": "markdown",
   "metadata": {
    "id": "7mKK4Rd8vhPS"
   },
   "source": [
    "#  **ICT303 - Assignment 2**\n",
    "\n",
    "**Your name:**\n",
    "\n",
    "**Student ID: **\n",
    "\n",
    "**Email: **\n",
    "\n",
    "In this assignment, you will build and train a deep learning model for solving a problem of your choice.\n",
    "\n",
    "\n",
    "You are required to:\n",
    "- Think of a practical problem that you would like to solve. The problem can be related, but not limted to, object detection and recognition from images, text analysis, speech analysis, image unpainting, converting images to artistic painting, action recognition (from images or videos), image to text (i.e., generating textual description for images or videos), or texrt to image (generating images from text) etc.,\n",
    "- Find an appropriate data set to train and test the model you will develop. Note that the dataset should contain enough data (with groundtruth labels) so that when used for training, the model can generalize well to unseen data.\n",
    "- Design a neural network that will solve the problem\n",
    "- Train the neural network on your training data and then evaluate its performance on test data\n",
    "- Analyze the performance of the network you developed and discuss its limitations.\n",
    "\n",
    "**What to submit:**\n",
    "- A colab notebook that describes:\n",
    " - The problem you would like to solve **[10 Marks]**\n",
    " - The dataset that you will use to train and test the deep learning model that you will develop **[10 marks]**\n",
    " - A diagram that describes the architecture of the neural network that you developed **[10 marks]**\n",
    " - Performance curves - this is includes the loss curves as well as the accuracy **[10 marks]**\n",
    " - A discussion, analysis and justification of the different choices you made and their effect on the performance **[15 marks]**\n",
    " - A discussion, analysis of the limitations of your method. You can also show failure cases and try to understand why did it fail on these cases **[15 marks]**\n",
    "\n",
    "- Source code that runs - this includes both code for training and testing **[30 marks]**\n",
    "\n",
    "You also need to submit the dataset you used for training and testing, or alternatively provide the code that downloads the data.\n",
    "\n",
    "Make sure you reference all sources from which you took information.\n",
    "\n",
    "You are allowed to use existing neural networks (not required to implement them from scratch). But, you must customize the architecture to the problem you want to solve.\n",
    "\n",
    "**Where to find datasets?**\n",
    "- [Kaggle competition](https://www.kaggle.com/c/dog-breed-identification) is a good source.\n",
    "- You can also look at this [wikipedia site[(https://en.wikipedia.org/wiki/List_of_datasets_for_machine-learning_research)\n",
    "\n",
    "If you are thinking of a specific problem and were unable to find a suitable dataset, please talk to me during the lecture or lab and we will search together.\n",
    "\n",
    "**Recommended timeline**\n",
    "- Week 1 of Assignement release: identify 2 or 3 problems of interest, a find dataset for each of the problem and try to understand how to load the data and how it is organised. Discuss it with the UC during the lab session or via email.\n",
    "- Week 2:\n",
    " - Make sure your dataloader works proply and you are able to load the data and structure it in a way that neural networks can use them.\n",
    " - Design your network architecture\n",
    "- Week 3: Network architecture implemented and training and testing done. Evaluate the performance\n",
    "- Week 4: Finetune the network architecture and the hyperparameters to improve the performance. Write the report for submission.\n",
    "\n",
    "It is highly recommended that you follow this timeline. The earlier you start training and testing, the more time you will have to finetune your solution and achieve a better performance.\n"
   ]
  }
 ],
 "metadata": {
  "colab": {
   "provenance": []
  },
  "kernelspec": {
   "display_name": "Python 3 (ipykernel)",
   "language": "python",
   "name": "python3"
  },
  "language_info": {
   "codemirror_mode": {
    "name": "ipython",
    "version": 3
   },
   "file_extension": ".py",
   "mimetype": "text/x-python",
   "name": "python",
   "nbconvert_exporter": "python",
   "pygments_lexer": "ipython3",
   "version": "3.9.16"
  }
 },
 "nbformat": 4,
 "nbformat_minor": 4
}
